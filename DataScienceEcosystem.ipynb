{
 "cells": [
  {
   "cell_type": "markdown",
   "id": "fb7d0172",
   "metadata": {},
   "source": [
    "# Data Science Tools and Ecosystem"
   ]
  },
  {
   "cell_type": "markdown",
   "id": "f129608a",
   "metadata": {},
   "source": [
    "In this notebook, Data Science Tools and Ecosystem are summarized."
   ]
  },
  {
   "cell_type": "markdown",
   "id": "d26c69d6",
   "metadata": {},
   "source": [
    "some of the popular language that data scientist use are:\n",
    "1. Python\n",
    "2. R\n",
    "3. SQL\n",
    "4. Java\n",
    "5. Julia\n"
   ]
  },
  {
   "cell_type": "markdown",
   "id": "e88dfc24",
   "metadata": {},
   "source": [
    "someof the commonly used libraries by data scientist include:\n",
    "1. Pandas\n",
    "2. NumPy\n",
    "3. Matplotlib\n",
    "4. Scikit-learn\n",
    "5. TensorFlow\n"
   ]
  },
  {
   "cell_type": "markdown",
   "id": "c6d067d7",
   "metadata": {},
   "source": [
    " Data Science Tools\n",
    "\n",
    "| Tool        | \n",
    "|-------------|\n",
    "| Jupyter     | \n",
    "| RStudio     | \n",
    "| GitHub      | \n",
    "| Anaconda    | \n",
    "| TensorFlow  |\n"
   ]
  },
  {
   "cell_type": "markdown",
   "id": "59038a6c",
   "metadata": {},
   "source": [
    "### Below are the expression of evaluating arithmetic expression in python.\n",
    "\n"
   ]
  },
  {
   "cell_type": "code",
   "execution_count": 1,
   "id": "d559f3e1",
   "metadata": {},
   "outputs": [
    {
     "name": "stdout",
     "output_type": "stream",
     "text": [
      "Multiplication: 50\n",
      "Addition: 15\n"
     ]
    }
   ],
   "source": [
    "# Multiplication and Addition\n",
    "a = 5\n",
    "b = 10\n",
    "c = a * b  # Multiplication\n",
    "d = a + b  # Addition\n",
    "print(f\"Multiplication: {c}\")\n",
    "print(f\"Addition: {d}\")\n"
   ]
  },
  {
   "cell_type": "code",
   "execution_count": 2,
   "id": "f14d3c69",
   "metadata": {},
   "outputs": [
    {
     "name": "stdout",
     "output_type": "stream",
     "text": [
      "150 minutes is equal to 2.5 hours.\n"
     ]
    }
   ],
   "source": [
    "# Convert minutes to hours\n",
    "minutes = 150\n",
    "hours = minutes / 60\n",
    "print(f\"{minutes} minutes is equal to {hours} hours.\")\n"
   ]
  },
  {
   "cell_type": "markdown",
   "id": "6385ea2d",
   "metadata": {},
   "source": [
    "__Objectives__\n",
    "- Learn about different Data Science languages\n",
    "- Explore popular libraries and tools used in Data Science\n",
    "- Understand basic arithmetic expressions and conversions\n",
    "- Get familiar with creating notebooks with markdown and code cells\n"
   ]
  },
  {
   "cell_type": "markdown",
   "id": "7bab4d4e",
   "metadata": {},
   "source": [
    "## Author\n",
    "The author of this notebook is [Dhanush ks].\n"
   ]
  }
 ],
 "metadata": {
  "kernelspec": {
   "display_name": "Python 3 (ipykernel)",
   "language": "python",
   "name": "python3"
  },
  "language_info": {
   "codemirror_mode": {
    "name": "ipython",
    "version": 3
   },
   "file_extension": ".py",
   "mimetype": "text/x-python",
   "name": "python",
   "nbconvert_exporter": "python",
   "pygments_lexer": "ipython3",
   "version": "3.11.9"
  }
 },
 "nbformat": 4,
 "nbformat_minor": 5
}
